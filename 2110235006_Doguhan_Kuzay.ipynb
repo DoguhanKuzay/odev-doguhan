{
 "cells": [
  {
   "cell_type": "markdown",
   "id": "ce97b256-c741-4b7c-beb0-d16271cda85a",
   "metadata": {},
   "source": [
    "# DOSYA YÜKLEME"
   ]
  },
  {
   "cell_type": "code",
   "execution_count": null,
   "id": "3ce174ec-b70f-4042-9672-9c730f25d5ba",
   "metadata": {},
   "outputs": [],
   "source": [
    "import pandas as pd\n",
    "import numpy as np\n",
    "import matplotlib.pyplot as plt\n",
    "from sklearn.linear_model import LinearRegression\n",
    "\n",
    "df=pd.read_csv(\"odev.csv\",sep=\",\")\n",
    "print(df)"
   ]
  },
  {
   "cell_type": "markdown",
   "id": "46ac0d0f-d02b-4e35-a27e-a5b1e9b37b83",
   "metadata": {},
   "source": [
    "# ÖZELLİK BAKMA"
   ]
  },
  {
   "cell_type": "code",
   "execution_count": 759,
   "id": "5c2031a9-dfea-43c6-83e3-58c8240f89af",
   "metadata": {},
   "outputs": [
    {
     "name": "stdout",
     "output_type": "stream",
     "text": [
      "<class 'pandas.core.frame.DataFrame'>\n",
      "RangeIndex: 1338 entries, 0 to 1337\n",
      "Data columns (total 7 columns):\n",
      " #   Column    Non-Null Count  Dtype  \n",
      "---  ------    --------------  -----  \n",
      " 0   age       1338 non-null   int64  \n",
      " 1   sex       1338 non-null   object \n",
      " 2   bmi       1338 non-null   float64\n",
      " 3   children  1338 non-null   int64  \n",
      " 4   smoker    1338 non-null   object \n",
      " 5   region    1338 non-null   object \n",
      " 6   charges   1338 non-null   float64\n",
      "dtypes: float64(2), int64(2), object(3)\n",
      "memory usage: 73.3+ KB\n",
      "None\n"
     ]
    }
   ],
   "source": [
    "print(df.info())"
   ]
  },
  {
   "cell_type": "code",
   "execution_count": null,
   "id": "a888e46e-56a2-4ef9-8865-6f02263565bb",
   "metadata": {},
   "outputs": [],
   "source": [
    "print(df.describe())"
   ]
  },
  {
   "cell_type": "markdown",
   "id": "a1bed086-9074-457a-9075-f9aa78839610",
   "metadata": {},
   "source": [
    "# NULL BAKMA VE KATAGORİK VERİ DÖNÜŞTÜRME"
   ]
  },
  {
   "cell_type": "code",
   "execution_count": 763,
   "id": "1d783cc4-2ad7-4177-b7c8-1c690cd071a2",
   "metadata": {},
   "outputs": [
    {
     "name": "stdout",
     "output_type": "stream",
     "text": [
      "0\n"
     ]
    }
   ],
   "source": [
    " print(df.isna().sum().sum())"
   ]
  },
  {
   "cell_type": "code",
   "execution_count": 765,
   "id": "85fa8e94-db84-4535-b00b-94ffcb8ad99c",
   "metadata": {},
   "outputs": [],
   "source": [
    "#dosyanın içeriğine baktık null varmı kontrol ettik"
   ]
  },
  {
   "cell_type": "code",
   "execution_count": 767,
   "id": "4d9d0e91-3da8-4e23-a222-7168c5fce4a6",
   "metadata": {},
   "outputs": [
    {
     "name": "stdout",
     "output_type": "stream",
     "text": [
      "   age     sex     bmi  children smoker      charges  region_northeast  \\\n",
      "0   19  female  27.900         0    yes  16884.92400             False   \n",
      "1   18    male  33.770         1     no   1725.55230             False   \n",
      "2   28    male  33.000         3     no   4449.46200             False   \n",
      "3   33    male  22.705         0     no  21984.47061             False   \n",
      "4   32    male  28.880         0     no   3866.85520             False   \n",
      "\n",
      "   region_northwest  region_southeast  region_southwest  \n",
      "0             False             False              True  \n",
      "1             False              True             False  \n",
      "2             False              True             False  \n",
      "3              True             False             False  \n",
      "4              True             False             False  \n"
     ]
    }
   ],
   "source": [
    "df=pd.get_dummies(df,columns=[\"region\"])\n",
    "print(df.head())"
   ]
  },
  {
   "cell_type": "code",
   "execution_count": 769,
   "id": "5674b519-93da-4421-a49e-554ab2cea048",
   "metadata": {},
   "outputs": [],
   "source": [
    "df[\"region_northeast\"]=[1 if row==True else 0 for row in df[\"region_northeast\"]]"
   ]
  },
  {
   "cell_type": "code",
   "execution_count": 771,
   "id": "de37a703-7af1-4061-8581-44f5937e2596",
   "metadata": {},
   "outputs": [],
   "source": [
    "df[\"region_northwest\"]=[1 if row==True else 0 for row in df[\"region_northwest\"]]"
   ]
  },
  {
   "cell_type": "code",
   "execution_count": 773,
   "id": "d4f03463-4d93-4555-ae6c-18823d91e3ac",
   "metadata": {},
   "outputs": [],
   "source": [
    "df[\"region_southeast\"]=[1 if row==True else 0 for row in df[\"region_southeast\"]]"
   ]
  },
  {
   "cell_type": "code",
   "execution_count": 775,
   "id": "4617ad79-17fd-47f5-8f88-33550f2acd77",
   "metadata": {},
   "outputs": [],
   "source": [
    "df[\"region_southwest\"]=[1 if row==True else 0 for row in df[\"region_southwest\"]]"
   ]
  },
  {
   "cell_type": "code",
   "execution_count": 777,
   "id": "34f6789b-050c-422f-84cf-aa305165ac2a",
   "metadata": {},
   "outputs": [
    {
     "name": "stdout",
     "output_type": "stream",
     "text": [
      "      age     sex     bmi  children smoker      charges  region_northeast  \\\n",
      "0      19  female  27.900         0    yes  16884.92400                 0   \n",
      "1      18    male  33.770         1     no   1725.55230                 0   \n",
      "2      28    male  33.000         3     no   4449.46200                 0   \n",
      "3      33    male  22.705         0     no  21984.47061                 0   \n",
      "4      32    male  28.880         0     no   3866.85520                 0   \n",
      "...   ...     ...     ...       ...    ...          ...               ...   \n",
      "1333   50    male  30.970         3     no  10600.54830                 0   \n",
      "1334   18  female  31.920         0     no   2205.98080                 1   \n",
      "1335   18  female  36.850         0     no   1629.83350                 0   \n",
      "1336   21  female  25.800         0     no   2007.94500                 0   \n",
      "1337   61  female  29.070         0    yes  29141.36030                 0   \n",
      "\n",
      "      region_northwest  region_southeast  region_southwest  \n",
      "0                    0                 0                 1  \n",
      "1                    0                 1                 0  \n",
      "2                    0                 1                 0  \n",
      "3                    1                 0                 0  \n",
      "4                    1                 0                 0  \n",
      "...                ...               ...               ...  \n",
      "1333                 1                 0                 0  \n",
      "1334                 0                 0                 0  \n",
      "1335                 0                 1                 0  \n",
      "1336                 0                 0                 1  \n",
      "1337                 1                 0                 0  \n",
      "\n",
      "[1338 rows x 10 columns]\n"
     ]
    }
   ],
   "source": [
    "print(df)"
   ]
  },
  {
   "cell_type": "code",
   "execution_count": 779,
   "id": "c7211ae6-5558-4b66-ad57-e3d9ae09d872",
   "metadata": {},
   "outputs": [
    {
     "name": "stdout",
     "output_type": "stream",
     "text": [
      "   age     bmi  children smoker      charges  region_northeast  \\\n",
      "0   19  27.900         0    yes  16884.92400                 0   \n",
      "1   18  33.770         1     no   1725.55230                 0   \n",
      "2   28  33.000         3     no   4449.46200                 0   \n",
      "3   33  22.705         0     no  21984.47061                 0   \n",
      "4   32  28.880         0     no   3866.85520                 0   \n",
      "\n",
      "   region_northwest  region_southeast  region_southwest  sex_female  sex_male  \n",
      "0                 0                 0                 1        True     False  \n",
      "1                 0                 1                 0       False      True  \n",
      "2                 0                 1                 0       False      True  \n",
      "3                 1                 0                 0       False      True  \n",
      "4                 1                 0                 0       False      True  \n"
     ]
    }
   ],
   "source": [
    "df=pd.get_dummies(df,columns=[\"sex\"])\n",
    "print(df.head())"
   ]
  },
  {
   "cell_type": "code",
   "execution_count": 781,
   "id": "5f9e8bdd-b0bc-42d0-b324-a4b35907bec3",
   "metadata": {},
   "outputs": [],
   "source": [
    "df[\"sex_female\"]=[1 if row==True else 0 for row in df[\"sex_female\"]]"
   ]
  },
  {
   "cell_type": "code",
   "execution_count": 783,
   "id": "88e38ebd-86d2-4268-9189-ad87dd1ba20f",
   "metadata": {},
   "outputs": [],
   "source": [
    "df[\"sex_male\"]=[1 if row==True else 0 for row in df[\"sex_male\"]]"
   ]
  },
  {
   "cell_type": "code",
   "execution_count": 785,
   "id": "54c0e1f4-f344-4c32-bc71-322c397f7211",
   "metadata": {},
   "outputs": [
    {
     "name": "stdout",
     "output_type": "stream",
     "text": [
      "      age     bmi  children smoker      charges  region_northeast  \\\n",
      "0      19  27.900         0    yes  16884.92400                 0   \n",
      "1      18  33.770         1     no   1725.55230                 0   \n",
      "2      28  33.000         3     no   4449.46200                 0   \n",
      "3      33  22.705         0     no  21984.47061                 0   \n",
      "4      32  28.880         0     no   3866.85520                 0   \n",
      "...   ...     ...       ...    ...          ...               ...   \n",
      "1333   50  30.970         3     no  10600.54830                 0   \n",
      "1334   18  31.920         0     no   2205.98080                 1   \n",
      "1335   18  36.850         0     no   1629.83350                 0   \n",
      "1336   21  25.800         0     no   2007.94500                 0   \n",
      "1337   61  29.070         0    yes  29141.36030                 0   \n",
      "\n",
      "      region_northwest  region_southeast  region_southwest  sex_female  \\\n",
      "0                    0                 0                 1           1   \n",
      "1                    0                 1                 0           0   \n",
      "2                    0                 1                 0           0   \n",
      "3                    1                 0                 0           0   \n",
      "4                    1                 0                 0           0   \n",
      "...                ...               ...               ...         ...   \n",
      "1333                 1                 0                 0           0   \n",
      "1334                 0                 0                 0           1   \n",
      "1335                 0                 1                 0           1   \n",
      "1336                 0                 0                 1           1   \n",
      "1337                 1                 0                 0           1   \n",
      "\n",
      "      sex_male  \n",
      "0            0  \n",
      "1            1  \n",
      "2            1  \n",
      "3            1  \n",
      "4            1  \n",
      "...        ...  \n",
      "1333         1  \n",
      "1334         0  \n",
      "1335         0  \n",
      "1336         0  \n",
      "1337         0  \n",
      "\n",
      "[1338 rows x 11 columns]\n"
     ]
    }
   ],
   "source": [
    "print(df)"
   ]
  },
  {
   "cell_type": "code",
   "execution_count": null,
   "id": "f9da8ece-0c8e-4e46-84dc-9a460d5734d8",
   "metadata": {},
   "outputs": [],
   "source": [
    "#bölgeleri ve cinsiyetleri düzenledik"
   ]
  },
  {
   "cell_type": "markdown",
   "id": "01774251-1218-44ff-9655-3278f3ad0bf7",
   "metadata": {},
   "source": [
    "# TEKRARLAYAN VERİLERE BAKMA VE SİLME"
   ]
  },
  {
   "cell_type": "code",
   "execution_count": 789,
   "id": "91c3ccef-6964-4e3e-a0ff-5609f47c9bb3",
   "metadata": {},
   "outputs": [
    {
     "name": "stdout",
     "output_type": "stream",
     "text": [
      "     age    bmi  children smoker    charges  region_northeast  \\\n",
      "581   19  30.59         0     no  1639.5631                 0   \n",
      "\n",
      "     region_northwest  region_southeast  region_southwest  sex_female  \\\n",
      "581                 1                 0                 0           0   \n",
      "\n",
      "     sex_male  \n",
      "581         1  \n"
     ]
    }
   ],
   "source": [
    "print(df[df.duplicated()])"
   ]
  },
  {
   "cell_type": "code",
   "execution_count": 791,
   "id": "caddfe80-6da5-436d-8942-f213e85fa382",
   "metadata": {},
   "outputs": [],
   "source": [
    "df.drop_duplicates(inplace=True)"
   ]
  },
  {
   "cell_type": "code",
   "execution_count": 793,
   "id": "8b44d8b7-66fd-4efd-8010-bea8d7274cbf",
   "metadata": {},
   "outputs": [
    {
     "name": "stdout",
     "output_type": "stream",
     "text": [
      "Empty DataFrame\n",
      "Columns: [age, bmi, children, smoker, charges, region_northeast, region_northwest, region_southeast, region_southwest, sex_female, sex_male]\n",
      "Index: []\n",
      "<class 'pandas.core.frame.DataFrame'>\n",
      "Index: 1337 entries, 0 to 1337\n",
      "Data columns (total 11 columns):\n",
      " #   Column            Non-Null Count  Dtype  \n",
      "---  ------            --------------  -----  \n",
      " 0   age               1337 non-null   int64  \n",
      " 1   bmi               1337 non-null   float64\n",
      " 2   children          1337 non-null   int64  \n",
      " 3   smoker            1337 non-null   object \n",
      " 4   charges           1337 non-null   float64\n",
      " 5   region_northeast  1337 non-null   int64  \n",
      " 6   region_northwest  1337 non-null   int64  \n",
      " 7   region_southeast  1337 non-null   int64  \n",
      " 8   region_southwest  1337 non-null   int64  \n",
      " 9   sex_female        1337 non-null   int64  \n",
      " 10  sex_male          1337 non-null   int64  \n",
      "dtypes: float64(2), int64(8), object(1)\n",
      "memory usage: 125.3+ KB\n"
     ]
    }
   ],
   "source": [
    "print(df[df.duplicated()])\n",
    "df.info()"
   ]
  },
  {
   "cell_type": "code",
   "execution_count": 795,
   "id": "fd45e90a-b0d9-4bc1-8034-6b4a8c14de4c",
   "metadata": {},
   "outputs": [],
   "source": [
    "#tekrarlayan veriyi sildik"
   ]
  },
  {
   "cell_type": "code",
   "execution_count": 797,
   "id": "9f112c4a-9a20-41a4-b9f5-8f3ea2dedb8e",
   "metadata": {},
   "outputs": [
    {
     "name": "stdout",
     "output_type": "stream",
     "text": [
      "   age     bmi  children      charges  region_northeast  region_northwest  \\\n",
      "0   19  27.900         0  16884.92400                 0                 0   \n",
      "1   18  33.770         1   1725.55230                 0                 0   \n",
      "2   28  33.000         3   4449.46200                 0                 0   \n",
      "3   33  22.705         0  21984.47061                 0                 1   \n",
      "4   32  28.880         0   3866.85520                 0                 1   \n",
      "\n",
      "   region_southeast  region_southwest  sex_female  sex_male  smoker_no  \\\n",
      "0                 0                 1           1         0      False   \n",
      "1                 1                 0           0         1       True   \n",
      "2                 1                 0           0         1       True   \n",
      "3                 0                 0           0         1       True   \n",
      "4                 0                 0           0         1       True   \n",
      "\n",
      "   smoker_yes  \n",
      "0        True  \n",
      "1       False  \n",
      "2       False  \n",
      "3       False  \n",
      "4       False  \n"
     ]
    }
   ],
   "source": [
    "df=pd.get_dummies(df,columns=[\"smoker\"])\n",
    "print(df.head())"
   ]
  },
  {
   "cell_type": "code",
   "execution_count": 799,
   "id": "d6af868c-b8c6-42df-8437-b26dc82573a2",
   "metadata": {},
   "outputs": [],
   "source": [
    "df[\"smoker_no\"]=[1 if row==True else 0 for row in df[\"smoker_no\"]]\n",
    "df[\"smoker_yes\"]=[1 if row==True else 0 for row in df[\"smoker_yes\"]]"
   ]
  },
  {
   "cell_type": "code",
   "execution_count": 801,
   "id": "9de597cc-babe-4570-b24f-14a6738e0306",
   "metadata": {},
   "outputs": [],
   "source": [
    "#smoker i unutmuşum"
   ]
  },
  {
   "cell_type": "code",
   "execution_count": 803,
   "id": "ff607fb5-bf74-4178-8f1d-d430f01f38f9",
   "metadata": {},
   "outputs": [
    {
     "name": "stdout",
     "output_type": "stream",
     "text": [
      "      age     bmi  children      charges  region_northeast  region_northwest  \\\n",
      "0      19  27.900         0  16884.92400                 0                 0   \n",
      "1      18  33.770         1   1725.55230                 0                 0   \n",
      "2      28  33.000         3   4449.46200                 0                 0   \n",
      "3      33  22.705         0  21984.47061                 0                 1   \n",
      "4      32  28.880         0   3866.85520                 0                 1   \n",
      "...   ...     ...       ...          ...               ...               ...   \n",
      "1333   50  30.970         3  10600.54830                 0                 1   \n",
      "1334   18  31.920         0   2205.98080                 1                 0   \n",
      "1335   18  36.850         0   1629.83350                 0                 0   \n",
      "1336   21  25.800         0   2007.94500                 0                 0   \n",
      "1337   61  29.070         0  29141.36030                 0                 1   \n",
      "\n",
      "      region_southeast  region_southwest  sex_female  sex_male  smoker_no  \\\n",
      "0                    0                 1           1         0          0   \n",
      "1                    1                 0           0         1          1   \n",
      "2                    1                 0           0         1          1   \n",
      "3                    0                 0           0         1          1   \n",
      "4                    0                 0           0         1          1   \n",
      "...                ...               ...         ...       ...        ...   \n",
      "1333                 0                 0           0         1          1   \n",
      "1334                 0                 0           1         0          1   \n",
      "1335                 1                 0           1         0          1   \n",
      "1336                 0                 1           1         0          1   \n",
      "1337                 0                 0           1         0          0   \n",
      "\n",
      "      smoker_yes  \n",
      "0              1  \n",
      "1              0  \n",
      "2              0  \n",
      "3              0  \n",
      "4              0  \n",
      "...          ...  \n",
      "1333           0  \n",
      "1334           0  \n",
      "1335           0  \n",
      "1336           0  \n",
      "1337           1  \n",
      "\n",
      "[1337 rows x 12 columns]\n"
     ]
    }
   ],
   "source": [
    "print(df)"
   ]
  },
  {
   "cell_type": "code",
   "execution_count": null,
   "id": "e578cd2f-f4e0-4250-912c-60ccef96dcf6",
   "metadata": {},
   "outputs": [],
   "source": [
    "from scipy import stats\n",
    "import numpy as np\n",
    "\n",
    "z=np.abs(stats.zscore(df))\n",
    "print(z)"
   ]
  },
  {
   "cell_type": "markdown",
   "id": "b0c8b971-6f23-4cb8-a606-4fcb78223130",
   "metadata": {},
   "source": [
    "# Z SCORE BAKMA VE Z SCORE 3 DEN FAZLA İSE SİLME"
   ]
  },
  {
   "cell_type": "code",
   "execution_count": 807,
   "id": "e1d445e1-8631-4e8e-9d3c-34db88db2de7",
   "metadata": {},
   "outputs": [
    {
     "name": "stdout",
     "output_type": "stream",
     "text": [
      "<class 'pandas.core.frame.DataFrame'>\n",
      "Index: 1337 entries, 0 to 1337\n",
      "Data columns (total 12 columns):\n",
      " #   Column            Non-Null Count  Dtype  \n",
      "---  ------            --------------  -----  \n",
      " 0   age               1337 non-null   int64  \n",
      " 1   bmi               1337 non-null   float64\n",
      " 2   children          1337 non-null   int64  \n",
      " 3   charges           1337 non-null   float64\n",
      " 4   region_northeast  1337 non-null   int64  \n",
      " 5   region_northwest  1337 non-null   int64  \n",
      " 6   region_southeast  1337 non-null   int64  \n",
      " 7   region_southwest  1337 non-null   int64  \n",
      " 8   sex_female        1337 non-null   int64  \n",
      " 9   sex_male          1337 non-null   int64  \n",
      " 10  smoker_no         1337 non-null   int64  \n",
      " 11  smoker_yes        1337 non-null   int64  \n",
      "dtypes: float64(2), int64(10)\n",
      "memory usage: 135.8 KB\n",
      "None\n"
     ]
    }
   ],
   "source": [
    "print(df.info())"
   ]
  },
  {
   "cell_type": "code",
   "execution_count": 809,
   "id": "54b87102-a5c5-4471-8a7d-527d859ef8fd",
   "metadata": {},
   "outputs": [
    {
     "data": {
      "text/html": [
       "<div>\n",
       "<style scoped>\n",
       "    .dataframe tbody tr th:only-of-type {\n",
       "        vertical-align: middle;\n",
       "    }\n",
       "\n",
       "    .dataframe tbody tr th {\n",
       "        vertical-align: top;\n",
       "    }\n",
       "\n",
       "    .dataframe thead th {\n",
       "        text-align: right;\n",
       "    }\n",
       "</style>\n",
       "<table border=\"1\" class=\"dataframe\">\n",
       "  <thead>\n",
       "    <tr style=\"text-align: right;\">\n",
       "      <th></th>\n",
       "      <th>age</th>\n",
       "      <th>bmi</th>\n",
       "      <th>children</th>\n",
       "      <th>charges</th>\n",
       "      <th>region_northeast</th>\n",
       "      <th>region_northwest</th>\n",
       "      <th>region_southeast</th>\n",
       "      <th>region_southwest</th>\n",
       "      <th>sex_female</th>\n",
       "      <th>sex_male</th>\n",
       "      <th>smoker_no</th>\n",
       "      <th>smoker_yes</th>\n",
       "    </tr>\n",
       "  </thead>\n",
       "  <tbody>\n",
       "    <tr>\n",
       "      <th>0</th>\n",
       "      <td>19</td>\n",
       "      <td>27.900</td>\n",
       "      <td>0</td>\n",
       "      <td>16884.92400</td>\n",
       "      <td>0</td>\n",
       "      <td>0</td>\n",
       "      <td>0</td>\n",
       "      <td>1</td>\n",
       "      <td>1</td>\n",
       "      <td>0</td>\n",
       "      <td>0</td>\n",
       "      <td>1</td>\n",
       "    </tr>\n",
       "    <tr>\n",
       "      <th>1</th>\n",
       "      <td>18</td>\n",
       "      <td>33.770</td>\n",
       "      <td>1</td>\n",
       "      <td>1725.55230</td>\n",
       "      <td>0</td>\n",
       "      <td>0</td>\n",
       "      <td>1</td>\n",
       "      <td>0</td>\n",
       "      <td>0</td>\n",
       "      <td>1</td>\n",
       "      <td>1</td>\n",
       "      <td>0</td>\n",
       "    </tr>\n",
       "    <tr>\n",
       "      <th>2</th>\n",
       "      <td>28</td>\n",
       "      <td>33.000</td>\n",
       "      <td>3</td>\n",
       "      <td>4449.46200</td>\n",
       "      <td>0</td>\n",
       "      <td>0</td>\n",
       "      <td>1</td>\n",
       "      <td>0</td>\n",
       "      <td>0</td>\n",
       "      <td>1</td>\n",
       "      <td>1</td>\n",
       "      <td>0</td>\n",
       "    </tr>\n",
       "    <tr>\n",
       "      <th>3</th>\n",
       "      <td>33</td>\n",
       "      <td>22.705</td>\n",
       "      <td>0</td>\n",
       "      <td>21984.47061</td>\n",
       "      <td>0</td>\n",
       "      <td>1</td>\n",
       "      <td>0</td>\n",
       "      <td>0</td>\n",
       "      <td>0</td>\n",
       "      <td>1</td>\n",
       "      <td>1</td>\n",
       "      <td>0</td>\n",
       "    </tr>\n",
       "    <tr>\n",
       "      <th>4</th>\n",
       "      <td>32</td>\n",
       "      <td>28.880</td>\n",
       "      <td>0</td>\n",
       "      <td>3866.85520</td>\n",
       "      <td>0</td>\n",
       "      <td>1</td>\n",
       "      <td>0</td>\n",
       "      <td>0</td>\n",
       "      <td>0</td>\n",
       "      <td>1</td>\n",
       "      <td>1</td>\n",
       "      <td>0</td>\n",
       "    </tr>\n",
       "  </tbody>\n",
       "</table>\n",
       "</div>"
      ],
      "text/plain": [
       "   age     bmi  children      charges  region_northeast  region_northwest  \\\n",
       "0   19  27.900         0  16884.92400                 0                 0   \n",
       "1   18  33.770         1   1725.55230                 0                 0   \n",
       "2   28  33.000         3   4449.46200                 0                 0   \n",
       "3   33  22.705         0  21984.47061                 0                 1   \n",
       "4   32  28.880         0   3866.85520                 0                 1   \n",
       "\n",
       "   region_southeast  region_southwest  sex_female  sex_male  smoker_no  \\\n",
       "0                 0                 1           1         0          0   \n",
       "1                 1                 0           0         1          1   \n",
       "2                 1                 0           0         1          1   \n",
       "3                 0                 0           0         1          1   \n",
       "4                 0                 0           0         1          1   \n",
       "\n",
       "   smoker_yes  \n",
       "0           1  \n",
       "1           0  \n",
       "2           0  \n",
       "3           0  \n",
       "4           0  "
      ]
     },
     "execution_count": 809,
     "metadata": {},
     "output_type": "execute_result"
    }
   ],
   "source": [
    "df.head()"
   ]
  },
  {
   "cell_type": "code",
   "execution_count": 811,
   "id": "c948dfd3-b654-4b5c-b55a-225ca52cbd73",
   "metadata": {},
   "outputs": [
    {
     "data": {
      "text/plain": [
       "array([0, 1], dtype=int64)"
      ]
     },
     "execution_count": 811,
     "metadata": {},
     "output_type": "execute_result"
    }
   ],
   "source": [
    "df['region_northeast'].unique()"
   ]
  },
  {
   "cell_type": "code",
   "execution_count": 813,
   "id": "8414c9dd-1198-421e-839a-f881f9517335",
   "metadata": {},
   "outputs": [],
   "source": [
    "#'1' object sayılıyormuş arkadaşıma sormak zorunda kaldım 1 olarak düzelttim"
   ]
  },
  {
   "cell_type": "code",
   "execution_count": 815,
   "id": "e56b7f82-370c-4267-a90c-c9daaab657b9",
   "metadata": {},
   "outputs": [
    {
     "name": "stdout",
     "output_type": "stream",
     "text": [
      "(array([  32,   34,   71,  116,  166,  413,  425,  438,  543,  568,  577,\n",
      "        639,  818,  846,  876,  931,  936,  968,  983, 1046, 1084, 1115,\n",
      "       1129, 1145, 1229, 1244, 1271, 1299, 1316], dtype=int64), array([2, 3, 2, 1, 2, 2, 2, 2, 3, 2, 3, 2, 3, 1, 2, 2, 2, 2, 2, 1, 2, 2,\n",
      "       2, 3, 3, 2, 2, 3, 1], dtype=int64))\n"
     ]
    }
   ],
   "source": [
    "print(np.where (z>3))"
   ]
  },
  {
   "cell_type": "code",
   "execution_count": 817,
   "id": "fe45d847-1a44-4caf-b5e3-3da858924bfb",
   "metadata": {},
   "outputs": [
    {
     "name": "stdout",
     "output_type": "stream",
     "text": [
      "[  32   34   71  116  166  413  425  438  543  568  577  639  818  846\n",
      "  876  931  936  968  983 1046 1084 1115 1129 1145 1229 1244 1271 1299\n",
      " 1316]\n"
     ]
    }
   ],
   "source": [
    "print(np.where (z>3)[0])"
   ]
  },
  {
   "cell_type": "code",
   "execution_count": 818,
   "id": "1868f001-a9b2-4bed-a1f5-60f57d8c941e",
   "metadata": {},
   "outputs": [
    {
     "name": "stdout",
     "output_type": "stream",
     "text": [
      "      age     bmi  children      charges  region_northeast  region_northwest  \\\n",
      "32     19  28.600         5   4687.79700                 0                 0   \n",
      "34     28  36.400         1  51194.55914                 0                 0   \n",
      "71     31  28.500         5   6799.45800                 1                 0   \n",
      "116    58  49.060         0  11381.32540                 0                 0   \n",
      "166    20  37.000         5   4830.63000                 0                 0   \n",
      "413    25  23.900         5   5080.09600                 0                 0   \n",
      "425    45  24.310         5   9788.86590                 0                 0   \n",
      "438    52  46.750         5  12592.53450                 0                 0   \n",
      "543    54  47.410         0  63770.42801                 0                 0   \n",
      "568    49  31.900         5  11552.90400                 0                 0   \n",
      "577    31  38.095         1  58571.07448                 1                 0   \n",
      "640    33  42.400         5   6666.24300                 0                 0   \n",
      "819    33  35.530         0  55135.40209                 0                 1   \n",
      "847    23  50.380         1   2438.05520                 0                 0   \n",
      "877    33  33.440         5   6653.78860                 0                 0   \n",
      "932    46  25.800         5  10096.97000                 0                 0   \n",
      "937    39  24.225         5   8965.79575                 0                 1   \n",
      "969    39  34.320         5   8596.82780                 0                 0   \n",
      "984    20  30.115         5   4915.05985                 1                 0   \n",
      "1047   22  52.580         1  44501.39820                 0                 0   \n",
      "1085   39  18.300         5  19023.26000                 0                 0   \n",
      "1116   41  29.640         5   9222.40260                 1                 0   \n",
      "1130   39  23.870         5   8582.30230                 0                 0   \n",
      "1146   60  32.800         0  52590.82939                 0                 0   \n",
      "1230   52  34.485         3  60021.39897                 0                 1   \n",
      "1245   28  24.300         5   5615.36900                 0                 0   \n",
      "1272   43  25.520         5  14478.33015                 0                 0   \n",
      "1300   45  30.360         0  62592.87309                 0                 0   \n",
      "1317   18  53.130         0   1163.46270                 0                 0   \n",
      "\n",
      "      region_southeast  region_southwest  sex_female  sex_male  smoker_no  \\\n",
      "32                   0                 1           1         0          1   \n",
      "34                   0                 1           0         1          0   \n",
      "71                   0                 0           0         1          1   \n",
      "116                  1                 0           0         1          1   \n",
      "166                  0                 1           1         0          1   \n",
      "413                  0                 1           0         1          1   \n",
      "425                  1                 0           0         1          1   \n",
      "438                  1                 0           1         0          1   \n",
      "543                  1                 0           1         0          0   \n",
      "568                  0                 1           1         0          1   \n",
      "577                  0                 0           1         0          0   \n",
      "640                  0                 1           0         1          1   \n",
      "819                  0                 0           1         0          0   \n",
      "847                  1                 0           0         1          1   \n",
      "877                  1                 0           0         1          1   \n",
      "932                  0                 1           0         1          1   \n",
      "937                  0                 0           1         0          1   \n",
      "969                  1                 0           1         0          1   \n",
      "984                  0                 0           0         1          1   \n",
      "1047                 1                 0           0         1          0   \n",
      "1085                 0                 1           1         0          0   \n",
      "1116                 0                 0           0         1          1   \n",
      "1130                 1                 0           1         0          1   \n",
      "1146                 0                 1           0         1          0   \n",
      "1230                 0                 0           0         1          0   \n",
      "1245                 0                 1           0         1          1   \n",
      "1272                 1                 0           0         1          1   \n",
      "1300                 1                 0           0         1          0   \n",
      "1317                 1                 0           0         1          1   \n",
      "\n",
      "      smoker_yes  \n",
      "32             0  \n",
      "34             1  \n",
      "71             0  \n",
      "116            0  \n",
      "166            0  \n",
      "413            0  \n",
      "425            0  \n",
      "438            0  \n",
      "543            1  \n",
      "568            0  \n",
      "577            1  \n",
      "640            0  \n",
      "819            1  \n",
      "847            0  \n",
      "877            0  \n",
      "932            0  \n",
      "937            0  \n",
      "969            0  \n",
      "984            0  \n",
      "1047           1  \n",
      "1085           1  \n",
      "1116           0  \n",
      "1130           0  \n",
      "1146           1  \n",
      "1230           1  \n",
      "1245           0  \n",
      "1272           0  \n",
      "1300           1  \n",
      "1317           0  \n"
     ]
    }
   ],
   "source": [
    "selected=df.iloc[np.where (z>3)[0]]\n",
    "print(selected)"
   ]
  },
  {
   "cell_type": "code",
   "execution_count": 819,
   "id": "89b09de2-67a3-43f4-8727-5826464af9c9",
   "metadata": {},
   "outputs": [
    {
     "name": "stdout",
     "output_type": "stream",
     "text": [
      "<class 'pandas.core.frame.DataFrame'>\n",
      "Index: 29 entries, 32 to 1317\n",
      "Data columns (total 12 columns):\n",
      " #   Column            Non-Null Count  Dtype  \n",
      "---  ------            --------------  -----  \n",
      " 0   age               29 non-null     int64  \n",
      " 1   bmi               29 non-null     float64\n",
      " 2   children          29 non-null     int64  \n",
      " 3   charges           29 non-null     float64\n",
      " 4   region_northeast  29 non-null     int64  \n",
      " 5   region_northwest  29 non-null     int64  \n",
      " 6   region_southeast  29 non-null     int64  \n",
      " 7   region_southwest  29 non-null     int64  \n",
      " 8   sex_female        29 non-null     int64  \n",
      " 9   sex_male          29 non-null     int64  \n",
      " 10  smoker_no         29 non-null     int64  \n",
      " 11  smoker_yes        29 non-null     int64  \n",
      "dtypes: float64(2), int64(10)\n",
      "memory usage: 2.9 KB\n"
     ]
    }
   ],
   "source": [
    "selected.info()"
   ]
  },
  {
   "cell_type": "code",
   "execution_count": 820,
   "id": "18d5cbcb-b86e-413a-bbaa-08f92193cb51",
   "metadata": {},
   "outputs": [
    {
     "ename": "KeyError",
     "evalue": "\"['age', 'bmi', 'children', 'charges', 'region_northeast', 'region_northwest', 'region_southeast', 'region_southwest', 'sex_female', 'sex_male', 'smoker_no', 'smoker_yes'] not found in axis\"",
     "output_type": "error",
     "traceback": [
      "\u001b[1;31m---------------------------------------------------------------------------\u001b[0m",
      "\u001b[1;31mKeyError\u001b[0m                                  Traceback (most recent call last)",
      "Cell \u001b[1;32mIn[820], line 1\u001b[0m\n\u001b[1;32m----> 1\u001b[0m df\u001b[38;5;241m.\u001b[39mdrop(df\u001b[38;5;241m.\u001b[39miloc[np\u001b[38;5;241m.\u001b[39mwhere (z\u001b[38;5;241m>\u001b[39m\u001b[38;5;241m3\u001b[39m)[\u001b[38;5;241m0\u001b[39m]],axis\u001b[38;5;241m=\u001b[39m\u001b[38;5;241m0\u001b[39m,inplace\u001b[38;5;241m=\u001b[39m\u001b[38;5;28;01mTrue\u001b[39;00m)\n",
      "File \u001b[1;32m~\\anaconda3\\Lib\\site-packages\\pandas\\core\\frame.py:5581\u001b[0m, in \u001b[0;36mDataFrame.drop\u001b[1;34m(self, labels, axis, index, columns, level, inplace, errors)\u001b[0m\n\u001b[0;32m   5433\u001b[0m \u001b[38;5;28;01mdef\u001b[39;00m \u001b[38;5;21mdrop\u001b[39m(\n\u001b[0;32m   5434\u001b[0m     \u001b[38;5;28mself\u001b[39m,\n\u001b[0;32m   5435\u001b[0m     labels: IndexLabel \u001b[38;5;241m|\u001b[39m \u001b[38;5;28;01mNone\u001b[39;00m \u001b[38;5;241m=\u001b[39m \u001b[38;5;28;01mNone\u001b[39;00m,\n\u001b[1;32m   (...)\u001b[0m\n\u001b[0;32m   5442\u001b[0m     errors: IgnoreRaise \u001b[38;5;241m=\u001b[39m \u001b[38;5;124m\"\u001b[39m\u001b[38;5;124mraise\u001b[39m\u001b[38;5;124m\"\u001b[39m,\n\u001b[0;32m   5443\u001b[0m ) \u001b[38;5;241m-\u001b[39m\u001b[38;5;241m>\u001b[39m DataFrame \u001b[38;5;241m|\u001b[39m \u001b[38;5;28;01mNone\u001b[39;00m:\n\u001b[0;32m   5444\u001b[0m \u001b[38;5;250m    \u001b[39m\u001b[38;5;124;03m\"\"\"\u001b[39;00m\n\u001b[0;32m   5445\u001b[0m \u001b[38;5;124;03m    Drop specified labels from rows or columns.\u001b[39;00m\n\u001b[0;32m   5446\u001b[0m \n\u001b[1;32m   (...)\u001b[0m\n\u001b[0;32m   5579\u001b[0m \u001b[38;5;124;03m            weight  1.0     0.8\u001b[39;00m\n\u001b[0;32m   5580\u001b[0m \u001b[38;5;124;03m    \"\"\"\u001b[39;00m\n\u001b[1;32m-> 5581\u001b[0m     \u001b[38;5;28;01mreturn\u001b[39;00m \u001b[38;5;28msuper\u001b[39m()\u001b[38;5;241m.\u001b[39mdrop(\n\u001b[0;32m   5582\u001b[0m         labels\u001b[38;5;241m=\u001b[39mlabels,\n\u001b[0;32m   5583\u001b[0m         axis\u001b[38;5;241m=\u001b[39maxis,\n\u001b[0;32m   5584\u001b[0m         index\u001b[38;5;241m=\u001b[39mindex,\n\u001b[0;32m   5585\u001b[0m         columns\u001b[38;5;241m=\u001b[39mcolumns,\n\u001b[0;32m   5586\u001b[0m         level\u001b[38;5;241m=\u001b[39mlevel,\n\u001b[0;32m   5587\u001b[0m         inplace\u001b[38;5;241m=\u001b[39minplace,\n\u001b[0;32m   5588\u001b[0m         errors\u001b[38;5;241m=\u001b[39merrors,\n\u001b[0;32m   5589\u001b[0m     )\n",
      "File \u001b[1;32m~\\anaconda3\\Lib\\site-packages\\pandas\\core\\generic.py:4788\u001b[0m, in \u001b[0;36mNDFrame.drop\u001b[1;34m(self, labels, axis, index, columns, level, inplace, errors)\u001b[0m\n\u001b[0;32m   4786\u001b[0m \u001b[38;5;28;01mfor\u001b[39;00m axis, labels \u001b[38;5;129;01min\u001b[39;00m axes\u001b[38;5;241m.\u001b[39mitems():\n\u001b[0;32m   4787\u001b[0m     \u001b[38;5;28;01mif\u001b[39;00m labels \u001b[38;5;129;01mis\u001b[39;00m \u001b[38;5;129;01mnot\u001b[39;00m \u001b[38;5;28;01mNone\u001b[39;00m:\n\u001b[1;32m-> 4788\u001b[0m         obj \u001b[38;5;241m=\u001b[39m obj\u001b[38;5;241m.\u001b[39m_drop_axis(labels, axis, level\u001b[38;5;241m=\u001b[39mlevel, errors\u001b[38;5;241m=\u001b[39merrors)\n\u001b[0;32m   4790\u001b[0m \u001b[38;5;28;01mif\u001b[39;00m inplace:\n\u001b[0;32m   4791\u001b[0m     \u001b[38;5;28mself\u001b[39m\u001b[38;5;241m.\u001b[39m_update_inplace(obj)\n",
      "File \u001b[1;32m~\\anaconda3\\Lib\\site-packages\\pandas\\core\\generic.py:4830\u001b[0m, in \u001b[0;36mNDFrame._drop_axis\u001b[1;34m(self, labels, axis, level, errors, only_slice)\u001b[0m\n\u001b[0;32m   4828\u001b[0m         new_axis \u001b[38;5;241m=\u001b[39m axis\u001b[38;5;241m.\u001b[39mdrop(labels, level\u001b[38;5;241m=\u001b[39mlevel, errors\u001b[38;5;241m=\u001b[39merrors)\n\u001b[0;32m   4829\u001b[0m     \u001b[38;5;28;01melse\u001b[39;00m:\n\u001b[1;32m-> 4830\u001b[0m         new_axis \u001b[38;5;241m=\u001b[39m axis\u001b[38;5;241m.\u001b[39mdrop(labels, errors\u001b[38;5;241m=\u001b[39merrors)\n\u001b[0;32m   4831\u001b[0m     indexer \u001b[38;5;241m=\u001b[39m axis\u001b[38;5;241m.\u001b[39mget_indexer(new_axis)\n\u001b[0;32m   4833\u001b[0m \u001b[38;5;66;03m# Case for non-unique axis\u001b[39;00m\n\u001b[0;32m   4834\u001b[0m \u001b[38;5;28;01melse\u001b[39;00m:\n",
      "File \u001b[1;32m~\\anaconda3\\Lib\\site-packages\\pandas\\core\\indexes\\base.py:7070\u001b[0m, in \u001b[0;36mIndex.drop\u001b[1;34m(self, labels, errors)\u001b[0m\n\u001b[0;32m   7068\u001b[0m \u001b[38;5;28;01mif\u001b[39;00m mask\u001b[38;5;241m.\u001b[39many():\n\u001b[0;32m   7069\u001b[0m     \u001b[38;5;28;01mif\u001b[39;00m errors \u001b[38;5;241m!=\u001b[39m \u001b[38;5;124m\"\u001b[39m\u001b[38;5;124mignore\u001b[39m\u001b[38;5;124m\"\u001b[39m:\n\u001b[1;32m-> 7070\u001b[0m         \u001b[38;5;28;01mraise\u001b[39;00m \u001b[38;5;167;01mKeyError\u001b[39;00m(\u001b[38;5;124mf\u001b[39m\u001b[38;5;124m\"\u001b[39m\u001b[38;5;132;01m{\u001b[39;00mlabels[mask]\u001b[38;5;241m.\u001b[39mtolist()\u001b[38;5;132;01m}\u001b[39;00m\u001b[38;5;124m not found in axis\u001b[39m\u001b[38;5;124m\"\u001b[39m)\n\u001b[0;32m   7071\u001b[0m     indexer \u001b[38;5;241m=\u001b[39m indexer[\u001b[38;5;241m~\u001b[39mmask]\n\u001b[0;32m   7072\u001b[0m \u001b[38;5;28;01mreturn\u001b[39;00m \u001b[38;5;28mself\u001b[39m\u001b[38;5;241m.\u001b[39mdelete(indexer)\n",
      "\u001b[1;31mKeyError\u001b[0m: \"['age', 'bmi', 'children', 'charges', 'region_northeast', 'region_northwest', 'region_southeast', 'region_southwest', 'sex_female', 'sex_male', 'smoker_no', 'smoker_yes'] not found in axis\""
     ]
    }
   ],
   "source": [
    "df.drop(df.iloc[np.where (z>3)[0]],axis=0,inplace=True)"
   ]
  },
  {
   "cell_type": "markdown",
   "id": "35b80740-b0b4-4124-9eb1-361d810c7a92",
   "metadata": {},
   "source": [
    "# YUKARI SATIRDAKİ HATAYI ÇÖZEMEDİĞİM İÇİN TEK TEK ELİMLE SİLDİM"
   ]
  },
  {
   "cell_type": "code",
   "execution_count": 823,
   "id": "f7b8ee81-490b-4e87-a15e-bb9a6996c6b6",
   "metadata": {},
   "outputs": [],
   "source": [
    "df.drop(34,axis=0,inplace=True)"
   ]
  },
  {
   "cell_type": "code",
   "execution_count": 825,
   "id": "29900f3a-8891-4661-a212-c1d01a3f6841",
   "metadata": {},
   "outputs": [
    {
     "name": "stdout",
     "output_type": "stream",
     "text": [
      "[  32   34   71  116  166  413  425  438  543  568  577  639  818  846\n",
      "  876  931  936  968  983 1046 1084 1115 1129 1145 1229 1244 1271 1299\n",
      " 1316]\n"
     ]
    }
   ],
   "source": [
    "print(np.where (z>3)[0])"
   ]
  },
  {
   "cell_type": "code",
   "execution_count": 905,
   "id": "a9c2d407-d316-40e4-939e-c5685e6b07cd",
   "metadata": {},
   "outputs": [
    {
     "name": "stdout",
     "output_type": "stream",
     "text": [
      "         age       bmi  children   charges  region_northeast  \\\n",
      "33  0.978261  0.332257       0.0  0.205759               0.0   \n",
      "35  0.021739  0.120124       0.0  0.008192               0.0   \n",
      "36  0.956522  0.457493       0.6  0.235726               0.0   \n",
      "\n",
      "    region_northwest  region_southeast  region_southwest  sex_female  \\\n",
      "33               1.0               0.0               0.0         0.0   \n",
      "35               1.0               0.0               0.0         0.0   \n",
      "36               1.0               0.0               0.0         1.0   \n",
      "\n",
      "    sex_male  smoker_no  smoker_yes  \n",
      "33       1.0        1.0         0.0  \n",
      "35       1.0        1.0         0.0  \n",
      "36       0.0        1.0         0.0  \n"
     ]
    }
   ],
   "source": [
    "print(df.iloc[32:35,])\n",
    "#SİLİNDİMİ DİYE KONTROL ETTİM"
   ]
  },
  {
   "cell_type": "code",
   "execution_count": 829,
   "id": "ee65f042-0738-45af-827d-f0c36b628ce1",
   "metadata": {},
   "outputs": [],
   "source": [
    "df.drop(32,axis=0,inplace=True)"
   ]
  },
  {
   "cell_type": "code",
   "execution_count": 831,
   "id": "3eed481a-9947-4ac8-9ffa-67ab4cf2c13d",
   "metadata": {},
   "outputs": [
    {
     "name": "stdout",
     "output_type": "stream",
     "text": [
      "    age     bmi  children      charges  region_northeast  region_northwest  \\\n",
      "33   63  28.310         0  13770.09790                 0                 1   \n",
      "35   19  20.425         0   1625.43375                 0                 1   \n",
      "36   62  32.965         3  15612.19335                 0                 1   \n",
      "\n",
      "    region_southeast  region_southwest  sex_female  sex_male  smoker_no  \\\n",
      "33                 0                 0           0         1          1   \n",
      "35                 0                 0           0         1          1   \n",
      "36                 0                 0           1         0          1   \n",
      "\n",
      "    smoker_yes  \n",
      "33           0  \n",
      "35           0  \n",
      "36           0  \n"
     ]
    }
   ],
   "source": [
    "print(df.iloc[32:35,])"
   ]
  },
  {
   "cell_type": "code",
   "execution_count": 907,
   "id": "fc32fe2a-7759-4c6a-a056-e93b35869a74",
   "metadata": {},
   "outputs": [],
   "source": [
    "#doğru yeri sildi mi diye baktım şimdi tek tek elimle silicem\n",
    "#hatayı anlamadım"
   ]
  },
  {
   "cell_type": "code",
   "execution_count": 835,
   "id": "3cb6daae-d468-46c1-892e-9a58f6af711e",
   "metadata": {},
   "outputs": [],
   "source": [
    "df.drop(71,axis=0,inplace=True)\n",
    "df.drop(116,axis=0,inplace=True)\n",
    "df.drop(166,axis=0,inplace=True)\n",
    "df.drop(413,axis=0,inplace=True)\n",
    "df.drop(425,axis=0,inplace=True)\n",
    "df.drop(438,axis=0,inplace=True)\n",
    "df.drop(543,axis=0,inplace=True)\n",
    "df.drop(568,axis=0,inplace=True)\n",
    "df.drop(577,axis=0,inplace=True)\n",
    "df.drop(639,axis=0,inplace=True)\n",
    "df.drop(818,axis=0,inplace=True)\n",
    "df.drop(846,axis=0,inplace=True)\n",
    "df.drop(876,axis=0,inplace=True)\n",
    "df.drop(931,axis=0,inplace=True)\n",
    "df.drop(936,axis=0,inplace=True)\n",
    "df.drop(968,axis=0,inplace=True)\n",
    "df.drop(983,axis=0,inplace=True)\n",
    "df.drop(1046,axis=0,inplace=True)\n",
    "df.drop(1084,axis=0,inplace=True)\n",
    "df.drop(1115,axis=0,inplace=True)\n",
    "df.drop(1129,axis=0,inplace=True)\n",
    "df.drop(1145,axis=0,inplace=True)\n",
    "df.drop(1229,axis=0,inplace=True)\n",
    "df.drop(1244,axis=0,inplace=True)\n",
    "df.drop(1271,axis=0,inplace=True)\n",
    "df.drop(1299,axis=0,inplace=True)\n",
    "df.drop(1316,axis=0,inplace=True)"
   ]
  },
  {
   "cell_type": "code",
   "execution_count": 837,
   "id": "0e64be5d-abdb-453a-baed-8f9793d58a30",
   "metadata": {},
   "outputs": [
    {
     "name": "stdout",
     "output_type": "stream",
     "text": [
      "<class 'pandas.core.frame.DataFrame'>\n",
      "Index: 1308 entries, 0 to 1337\n",
      "Data columns (total 12 columns):\n",
      " #   Column            Non-Null Count  Dtype  \n",
      "---  ------            --------------  -----  \n",
      " 0   age               1308 non-null   int64  \n",
      " 1   bmi               1308 non-null   float64\n",
      " 2   children          1308 non-null   int64  \n",
      " 3   charges           1308 non-null   float64\n",
      " 4   region_northeast  1308 non-null   int64  \n",
      " 5   region_northwest  1308 non-null   int64  \n",
      " 6   region_southeast  1308 non-null   int64  \n",
      " 7   region_southwest  1308 non-null   int64  \n",
      " 8   sex_female        1308 non-null   int64  \n",
      " 9   sex_male          1308 non-null   int64  \n",
      " 10  smoker_no         1308 non-null   int64  \n",
      " 11  smoker_yes        1308 non-null   int64  \n",
      "dtypes: float64(2), int64(10)\n",
      "memory usage: 132.8 KB\n"
     ]
    }
   ],
   "source": [
    "df.info()"
   ]
  },
  {
   "cell_type": "code",
   "execution_count": null,
   "id": "90c69242-95f5-410f-bd97-cc6bd7214dad",
   "metadata": {},
   "outputs": [],
   "source": [
    "df.shape"
   ]
  },
  {
   "cell_type": "markdown",
   "id": "ecd681d9-a78a-41be-867e-034f99f88f46",
   "metadata": {},
   "source": [
    "# MİN MAX NORMALİZASYONU YAPTIM"
   ]
  },
  {
   "cell_type": "code",
   "execution_count": null,
   "id": "e5f9d872-32ee-467b-bdc4-c73f6fc4e9eb",
   "metadata": {},
   "outputs": [],
   "source": [
    " df=(df-df.min())/(df.max()-df.min())\n",
    "print(df.head())"
   ]
  },
  {
   "cell_type": "markdown",
   "id": "d53059d1-bcc4-4654-8ab0-0221bd20b440",
   "metadata": {},
   "source": [
    "# X Y BELİRLEDİK"
   ]
  },
  {
   "cell_type": "code",
   "execution_count": 843,
   "id": "deb46841-113b-4f31-baf6-9cab9732408b",
   "metadata": {},
   "outputs": [],
   "source": [
    "y=df.loc[:,\"charges\"].values\n",
    "x=df.drop(\"charges\",axis=1)"
   ]
  },
  {
   "cell_type": "code",
   "execution_count": null,
   "id": "5290871c-4c8c-4f8a-a202-3c30b6011666",
   "metadata": {},
   "outputs": [],
   "source": [
    "print(x.values)"
   ]
  },
  {
   "cell_type": "markdown",
   "id": "bfc34c62-56f3-4f3f-97c0-5ed99e5d8c40",
   "metadata": {},
   "source": [
    "# LINEAR-DECISONTREE-RANDOMFORESTTREE REGRESYONU YAPTIM\n",
    "# VE TRAİN-TEST SPLIT"
   ]
  },
  {
   "cell_type": "code",
   "execution_count": 917,
   "id": "cd3ebcd4-4092-4565-87d3-6e47898e02e0",
   "metadata": {},
   "outputs": [],
   "source": [
    "from sklearn.linear_model import LinearRegression\n",
    "from sklearn.tree import DecisionTreeRegressor\n",
    "from sklearn.ensemble import RandomForestRegressor\n",
    "\n",
    "\n",
    "from sklearn.model_selection import train_test_split\n",
    "x_train,x_test,y_train,y_test=train_test_split(x,y,test_size=0.1,random_state=42)\n",
    "\n",
    "mlr=LinearRegression()\n",
    "mlr.fit(x_train,y_train)\n",
    "mlr_pred=mlr.predict(x_test)\n",
    "\n",
    "dt=DecisionTreeRegressor()\n",
    "dt.fit(x_train,y_train)\n",
    "dt_pred=dt.predict(x_test)\n",
    "\n",
    "rf=RandomForestRegressor(n_estimators=100,random_state=42)\n",
    "rf.fit(x_train,y_train.ravel())\n",
    "rf_pred=rf.predict(x_test)"
   ]
  },
  {
   "cell_type": "code",
   "execution_count": 918,
   "id": "a83b3d8f-03bf-4d80-96e4-e0c35df3bd6c",
   "metadata": {},
   "outputs": [
    {
     "name": "stdout",
     "output_type": "stream",
     "text": [
      "mlr 0.7618864284233892 0.6391599455937254\n",
      "dt 0.7169570142686552 1.0135136542527143\n",
      "rf 0.8394380439584896 0.7908209837142085\n"
     ]
    }
   ],
   "source": [
    "print(\"mlr\",r2_score(y_test,mlr_pred),mean_absolute_percentage_error(y_test,mlr_pred))\n",
    "print(\"dt\",r2_score(y_test,dt_pred),mean_absolute_percentage_error(y_test,dt_pred))\n",
    "print(\"rf\",r2_score(y_test,rf_pred),mean_absolute_percentage_error(y_test,rf_pred))"
   ]
  },
  {
   "cell_type": "code",
   "execution_count": 921,
   "id": "ab9b3f9a-eed2-4eab-bd84-e4420e131803",
   "metadata": {},
   "outputs": [],
   "source": [
    "#decision tree linear regression ve random forest import ettik ve sonuçlarına baktık\n",
    "#ve train test split yaptık"
   ]
  },
  {
   "cell_type": "code",
   "execution_count": 923,
   "id": "89942ff0-c967-4beb-a649-bea95531f87c",
   "metadata": {},
   "outputs": [],
   "source": [
    "from sklearn.metrics import r2_score,mean_absolute_error,mean_absolute_percentage_error,mean_squared_error"
   ]
  },
  {
   "cell_type": "code",
   "execution_count": 925,
   "id": "8733f8e1-36a2-4ea9-9f6f-6e7b6b520373",
   "metadata": {
    "scrolled": true
   },
   "outputs": [
    {
     "ename": "ValueError",
     "evalue": "Found input variables with inconsistent numbers of samples: [1308, 131]",
     "output_type": "error",
     "traceback": [
      "\u001b[1;31m---------------------------------------------------------------------------\u001b[0m",
      "\u001b[1;31mValueError\u001b[0m                                Traceback (most recent call last)",
      "Cell \u001b[1;32mIn[925], line 1\u001b[0m\n\u001b[1;32m----> 1\u001b[0m \u001b[38;5;28mprint\u001b[39m(\u001b[38;5;124m\"\u001b[39m\u001b[38;5;124mmlr r2\u001b[39m\u001b[38;5;124m\"\u001b[39m,r2_score(y,mlr_pred))\n\u001b[0;32m      2\u001b[0m \u001b[38;5;28mprint\u001b[39m(\u001b[38;5;124m\"\u001b[39m\u001b[38;5;124mmlr mae\u001b[39m\u001b[38;5;124m\"\u001b[39m,mean_absolute_error(y,mlr_pred))\n\u001b[0;32m      3\u001b[0m \u001b[38;5;28mprint\u001b[39m(\u001b[38;5;124m\"\u001b[39m\u001b[38;5;124mmlr mape\u001b[39m\u001b[38;5;124m\"\u001b[39m,mean_absolute_percentage_error(y,mlr_pred))\n",
      "File \u001b[1;32m~\\anaconda3\\Lib\\site-packages\\sklearn\\utils\\_param_validation.py:213\u001b[0m, in \u001b[0;36mvalidate_params.<locals>.decorator.<locals>.wrapper\u001b[1;34m(*args, **kwargs)\u001b[0m\n\u001b[0;32m    207\u001b[0m \u001b[38;5;28;01mtry\u001b[39;00m:\n\u001b[0;32m    208\u001b[0m     \u001b[38;5;28;01mwith\u001b[39;00m config_context(\n\u001b[0;32m    209\u001b[0m         skip_parameter_validation\u001b[38;5;241m=\u001b[39m(\n\u001b[0;32m    210\u001b[0m             prefer_skip_nested_validation \u001b[38;5;129;01mor\u001b[39;00m global_skip_validation\n\u001b[0;32m    211\u001b[0m         )\n\u001b[0;32m    212\u001b[0m     ):\n\u001b[1;32m--> 213\u001b[0m         \u001b[38;5;28;01mreturn\u001b[39;00m func(\u001b[38;5;241m*\u001b[39margs, \u001b[38;5;241m*\u001b[39m\u001b[38;5;241m*\u001b[39mkwargs)\n\u001b[0;32m    214\u001b[0m \u001b[38;5;28;01mexcept\u001b[39;00m InvalidParameterError \u001b[38;5;28;01mas\u001b[39;00m e:\n\u001b[0;32m    215\u001b[0m     \u001b[38;5;66;03m# When the function is just a wrapper around an estimator, we allow\u001b[39;00m\n\u001b[0;32m    216\u001b[0m     \u001b[38;5;66;03m# the function to delegate validation to the estimator, but we replace\u001b[39;00m\n\u001b[0;32m    217\u001b[0m     \u001b[38;5;66;03m# the name of the estimator by the name of the function in the error\u001b[39;00m\n\u001b[0;32m    218\u001b[0m     \u001b[38;5;66;03m# message to avoid confusion.\u001b[39;00m\n\u001b[0;32m    219\u001b[0m     msg \u001b[38;5;241m=\u001b[39m re\u001b[38;5;241m.\u001b[39msub(\n\u001b[0;32m    220\u001b[0m         \u001b[38;5;124mr\u001b[39m\u001b[38;5;124m\"\u001b[39m\u001b[38;5;124mparameter of \u001b[39m\u001b[38;5;124m\\\u001b[39m\u001b[38;5;124mw+ must be\u001b[39m\u001b[38;5;124m\"\u001b[39m,\n\u001b[0;32m    221\u001b[0m         \u001b[38;5;124mf\u001b[39m\u001b[38;5;124m\"\u001b[39m\u001b[38;5;124mparameter of \u001b[39m\u001b[38;5;132;01m{\u001b[39;00mfunc\u001b[38;5;241m.\u001b[39m\u001b[38;5;18m__qualname__\u001b[39m\u001b[38;5;132;01m}\u001b[39;00m\u001b[38;5;124m must be\u001b[39m\u001b[38;5;124m\"\u001b[39m,\n\u001b[0;32m    222\u001b[0m         \u001b[38;5;28mstr\u001b[39m(e),\n\u001b[0;32m    223\u001b[0m     )\n",
      "File \u001b[1;32m~\\anaconda3\\Lib\\site-packages\\sklearn\\metrics\\_regression.py:1180\u001b[0m, in \u001b[0;36mr2_score\u001b[1;34m(y_true, y_pred, sample_weight, multioutput, force_finite)\u001b[0m\n\u001b[0;32m   1039\u001b[0m \u001b[38;5;129m@validate_params\u001b[39m(\n\u001b[0;32m   1040\u001b[0m     {\n\u001b[0;32m   1041\u001b[0m         \u001b[38;5;124m\"\u001b[39m\u001b[38;5;124my_true\u001b[39m\u001b[38;5;124m\"\u001b[39m: [\u001b[38;5;124m\"\u001b[39m\u001b[38;5;124marray-like\u001b[39m\u001b[38;5;124m\"\u001b[39m],\n\u001b[1;32m   (...)\u001b[0m\n\u001b[0;32m   1059\u001b[0m     force_finite\u001b[38;5;241m=\u001b[39m\u001b[38;5;28;01mTrue\u001b[39;00m,\n\u001b[0;32m   1060\u001b[0m ):\n\u001b[0;32m   1061\u001b[0m \u001b[38;5;250m    \u001b[39m\u001b[38;5;124;03m\"\"\":math:`R^2` (coefficient of determination) regression score function.\u001b[39;00m\n\u001b[0;32m   1062\u001b[0m \n\u001b[0;32m   1063\u001b[0m \u001b[38;5;124;03m    Best possible score is 1.0 and it can be negative (because the\u001b[39;00m\n\u001b[1;32m   (...)\u001b[0m\n\u001b[0;32m   1178\u001b[0m \u001b[38;5;124;03m    -inf\u001b[39;00m\n\u001b[0;32m   1179\u001b[0m \u001b[38;5;124;03m    \"\"\"\u001b[39;00m\n\u001b[1;32m-> 1180\u001b[0m     y_type, y_true, y_pred, multioutput \u001b[38;5;241m=\u001b[39m _check_reg_targets(\n\u001b[0;32m   1181\u001b[0m         y_true, y_pred, multioutput\n\u001b[0;32m   1182\u001b[0m     )\n\u001b[0;32m   1183\u001b[0m     check_consistent_length(y_true, y_pred, sample_weight)\n\u001b[0;32m   1185\u001b[0m     \u001b[38;5;28;01mif\u001b[39;00m _num_samples(y_pred) \u001b[38;5;241m<\u001b[39m \u001b[38;5;241m2\u001b[39m:\n",
      "File \u001b[1;32m~\\anaconda3\\Lib\\site-packages\\sklearn\\metrics\\_regression.py:102\u001b[0m, in \u001b[0;36m_check_reg_targets\u001b[1;34m(y_true, y_pred, multioutput, dtype)\u001b[0m\n\u001b[0;32m     68\u001b[0m \u001b[38;5;28;01mdef\u001b[39;00m \u001b[38;5;21m_check_reg_targets\u001b[39m(y_true, y_pred, multioutput, dtype\u001b[38;5;241m=\u001b[39m\u001b[38;5;124m\"\u001b[39m\u001b[38;5;124mnumeric\u001b[39m\u001b[38;5;124m\"\u001b[39m):\n\u001b[0;32m     69\u001b[0m \u001b[38;5;250m    \u001b[39m\u001b[38;5;124;03m\"\"\"Check that y_true and y_pred belong to the same regression task.\u001b[39;00m\n\u001b[0;32m     70\u001b[0m \n\u001b[0;32m     71\u001b[0m \u001b[38;5;124;03m    Parameters\u001b[39;00m\n\u001b[1;32m   (...)\u001b[0m\n\u001b[0;32m    100\u001b[0m \u001b[38;5;124;03m        correct keyword.\u001b[39;00m\n\u001b[0;32m    101\u001b[0m \u001b[38;5;124;03m    \"\"\"\u001b[39;00m\n\u001b[1;32m--> 102\u001b[0m     check_consistent_length(y_true, y_pred)\n\u001b[0;32m    103\u001b[0m     y_true \u001b[38;5;241m=\u001b[39m check_array(y_true, ensure_2d\u001b[38;5;241m=\u001b[39m\u001b[38;5;28;01mFalse\u001b[39;00m, dtype\u001b[38;5;241m=\u001b[39mdtype)\n\u001b[0;32m    104\u001b[0m     y_pred \u001b[38;5;241m=\u001b[39m check_array(y_pred, ensure_2d\u001b[38;5;241m=\u001b[39m\u001b[38;5;28;01mFalse\u001b[39;00m, dtype\u001b[38;5;241m=\u001b[39mdtype)\n",
      "File \u001b[1;32m~\\anaconda3\\Lib\\site-packages\\sklearn\\utils\\validation.py:457\u001b[0m, in \u001b[0;36mcheck_consistent_length\u001b[1;34m(*arrays)\u001b[0m\n\u001b[0;32m    455\u001b[0m uniques \u001b[38;5;241m=\u001b[39m np\u001b[38;5;241m.\u001b[39munique(lengths)\n\u001b[0;32m    456\u001b[0m \u001b[38;5;28;01mif\u001b[39;00m \u001b[38;5;28mlen\u001b[39m(uniques) \u001b[38;5;241m>\u001b[39m \u001b[38;5;241m1\u001b[39m:\n\u001b[1;32m--> 457\u001b[0m     \u001b[38;5;28;01mraise\u001b[39;00m \u001b[38;5;167;01mValueError\u001b[39;00m(\n\u001b[0;32m    458\u001b[0m         \u001b[38;5;124m\"\u001b[39m\u001b[38;5;124mFound input variables with inconsistent numbers of samples: \u001b[39m\u001b[38;5;132;01m%r\u001b[39;00m\u001b[38;5;124m\"\u001b[39m\n\u001b[0;32m    459\u001b[0m         \u001b[38;5;241m%\u001b[39m [\u001b[38;5;28mint\u001b[39m(l) \u001b[38;5;28;01mfor\u001b[39;00m l \u001b[38;5;129;01min\u001b[39;00m lengths]\n\u001b[0;32m    460\u001b[0m     )\n",
      "\u001b[1;31mValueError\u001b[0m: Found input variables with inconsistent numbers of samples: [1308, 131]"
     ]
    }
   ],
   "source": [
    "print(\"mlr r2\",r2_score(y,mlr_pred))\n",
    "print(\"mlr mae\",mean_absolute_error(y,mlr_pred))\n",
    "print(\"mlr mape\",mean_absolute_percentage_error(y,mlr_pred))\n",
    "print(\"mlr mse\",mean_squared_error(y,mlr_pred))\n",
    "print(\"mlr rmse\",(mean_squared_error(y,mlr_pred))**0.5)"
   ]
  },
  {
   "cell_type": "code",
   "execution_count": 885,
   "id": "769bfb99-a4ba-4b22-b8a3-49a9a2f108fd",
   "metadata": {},
   "outputs": [
    {
     "data": {
      "text/html": [
       "<div>\n",
       "<style scoped>\n",
       "    .dataframe tbody tr th:only-of-type {\n",
       "        vertical-align: middle;\n",
       "    }\n",
       "\n",
       "    .dataframe tbody tr th {\n",
       "        vertical-align: top;\n",
       "    }\n",
       "\n",
       "    .dataframe thead th {\n",
       "        text-align: right;\n",
       "    }\n",
       "</style>\n",
       "<table border=\"1\" class=\"dataframe\">\n",
       "  <thead>\n",
       "    <tr style=\"text-align: right;\">\n",
       "      <th></th>\n",
       "      <th>age</th>\n",
       "      <th>bmi</th>\n",
       "      <th>children</th>\n",
       "      <th>charges</th>\n",
       "      <th>region_northeast</th>\n",
       "      <th>region_northwest</th>\n",
       "      <th>region_southeast</th>\n",
       "      <th>region_southwest</th>\n",
       "      <th>sex_female</th>\n",
       "      <th>sex_male</th>\n",
       "      <th>smoker_no</th>\n",
       "      <th>smoker_yes</th>\n",
       "    </tr>\n",
       "  </thead>\n",
       "  <tbody>\n",
       "    <tr>\n",
       "      <th>1335</th>\n",
       "      <td>0.000000</td>\n",
       "      <td>0.562012</td>\n",
       "      <td>0.0</td>\n",
       "      <td>0.008263</td>\n",
       "      <td>0.0</td>\n",
       "      <td>0.0</td>\n",
       "      <td>1.0</td>\n",
       "      <td>0.0</td>\n",
       "      <td>1.0</td>\n",
       "      <td>0.0</td>\n",
       "      <td>1.0</td>\n",
       "      <td>0.0</td>\n",
       "    </tr>\n",
       "    <tr>\n",
       "      <th>1336</th>\n",
       "      <td>0.065217</td>\n",
       "      <td>0.264730</td>\n",
       "      <td>0.0</td>\n",
       "      <td>0.014414</td>\n",
       "      <td>0.0</td>\n",
       "      <td>0.0</td>\n",
       "      <td>0.0</td>\n",
       "      <td>1.0</td>\n",
       "      <td>1.0</td>\n",
       "      <td>0.0</td>\n",
       "      <td>1.0</td>\n",
       "      <td>0.0</td>\n",
       "    </tr>\n",
       "    <tr>\n",
       "      <th>1337</th>\n",
       "      <td>0.934783</td>\n",
       "      <td>0.352704</td>\n",
       "      <td>0.0</td>\n",
       "      <td>0.455816</td>\n",
       "      <td>0.0</td>\n",
       "      <td>1.0</td>\n",
       "      <td>0.0</td>\n",
       "      <td>0.0</td>\n",
       "      <td>1.0</td>\n",
       "      <td>0.0</td>\n",
       "      <td>0.0</td>\n",
       "      <td>1.0</td>\n",
       "    </tr>\n",
       "  </tbody>\n",
       "</table>\n",
       "</div>"
      ],
      "text/plain": [
       "           age       bmi  children   charges  region_northeast  \\\n",
       "1335  0.000000  0.562012       0.0  0.008263               0.0   \n",
       "1336  0.065217  0.264730       0.0  0.014414               0.0   \n",
       "1337  0.934783  0.352704       0.0  0.455816               0.0   \n",
       "\n",
       "      region_northwest  region_southeast  region_southwest  sex_female  \\\n",
       "1335               0.0               1.0               0.0         1.0   \n",
       "1336               0.0               0.0               1.0         1.0   \n",
       "1337               1.0               0.0               0.0         1.0   \n",
       "\n",
       "      sex_male  smoker_no  smoker_yes  \n",
       "1335       0.0        1.0         0.0  \n",
       "1336       0.0        1.0         0.0  \n",
       "1337       0.0        0.0         1.0  "
      ]
     },
     "execution_count": 885,
     "metadata": {},
     "output_type": "execute_result"
    }
   ],
   "source": [
    "df.iloc[1305:1309,]"
   ]
  },
  {
   "cell_type": "code",
   "execution_count": 887,
   "id": "1ef4b547-b74c-4327-999d-c1d54604db57",
   "metadata": {},
   "outputs": [
    {
     "name": "stdout",
     "output_type": "stream",
     "text": [
      "(1308,)\n"
     ]
    }
   ],
   "source": [
    "print(y.shape)"
   ]
  },
  {
   "cell_type": "code",
   "execution_count": 889,
   "id": "f1270411-4445-4162-ae8a-14cbcf99a832",
   "metadata": {},
   "outputs": [
    {
     "name": "stdout",
     "output_type": "stream",
     "text": [
      "(1308, 11)\n"
     ]
    }
   ],
   "source": [
    "print(x.shape)"
   ]
  },
  {
   "cell_type": "code",
   "execution_count": 891,
   "id": "8b75bd28-c854-4794-80ea-d8d55de9895a",
   "metadata": {},
   "outputs": [
    {
     "name": "stdout",
     "output_type": "stream",
     "text": [
      "1308\n",
      "131\n"
     ]
    }
   ],
   "source": [
    "print(len(y))\n",
    "print(len(mlr_pred))"
   ]
  },
  {
   "cell_type": "code",
   "execution_count": 893,
   "id": "38dc8d2a-59b8-42b9-b3ec-df19ded6a23b",
   "metadata": {},
   "outputs": [],
   "source": [
    "mlr=LinearRegression()\n",
    "mlr.fit(x,y)\n",
    "mlr_pred=mlr.predict(x)"
   ]
  },
  {
   "cell_type": "markdown",
   "id": "19925949-ad8b-4a42-a9ff-6e72dbd9b730",
   "metadata": {},
   "source": [
    "# 925 in neden hata verdiğini buldum x'in train-testsplit verilerini kullandığı için boyutları eşleşmiyormuş"
   ]
  },
  {
   "cell_type": "code",
   "execution_count": 897,
   "id": "fef48019-d1ce-4e13-845c-0e9a35b57446",
   "metadata": {},
   "outputs": [
    {
     "name": "stdout",
     "output_type": "stream",
     "text": [
      "mlr r2 0.7549633411630289\n",
      "mlr mae 0.06708452568528986\n",
      "mlr mape 91771711627.1231\n",
      "mlr mse 0.009327830899466198\n",
      "mlr rmse 0.09658069630866303\n"
     ]
    }
   ],
   "source": [
    "print(\"mlr r2\",r2_score(y,mlr_pred))\n",
    "print(\"mlr mae\",mean_absolute_error(y,mlr_pred))\n",
    "print(\"mlr mape\",mean_absolute_percentage_error(y,mlr_pred))\n",
    "print(\"mlr mse\",mean_squared_error(y,mlr_pred))\n",
    "print(\"mlr rmse\",(mean_squared_error(y,mlr_pred))**0.5)"
   ]
  },
  {
   "cell_type": "code",
   "execution_count": 928,
   "id": "7a35d988-a1f3-4c3b-81d9-8a2639af5996",
   "metadata": {},
   "outputs": [],
   "source": [
    "#r2,mae,rmse,mse değerleri güzel mape deği 0 lar fazla olduğu için kötü geldi"
   ]
  },
  {
   "cell_type": "code",
   "execution_count": null,
   "id": "2fdc344d-228a-46ff-a459-55536e9a82d7",
   "metadata": {},
   "outputs": [],
   "source": []
  }
 ],
 "metadata": {
  "kernelspec": {
   "display_name": "Python 3 (ipykernel)",
   "language": "python",
   "name": "python3"
  },
  "language_info": {
   "codemirror_mode": {
    "name": "ipython",
    "version": 3
   },
   "file_extension": ".py",
   "mimetype": "text/x-python",
   "name": "python",
   "nbconvert_exporter": "python",
   "pygments_lexer": "ipython3",
   "version": "3.12.4"
  }
 },
 "nbformat": 4,
 "nbformat_minor": 5
}
